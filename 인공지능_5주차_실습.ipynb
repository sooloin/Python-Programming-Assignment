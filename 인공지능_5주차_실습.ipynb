{
  "nbformat": 4,
  "nbformat_minor": 0,
  "metadata": {
    "colab": {
      "provenance": [],
      "authorship_tag": "ABX9TyNR3krNJTLLK3oyOM+FtDLD",
      "include_colab_link": true
    },
    "kernelspec": {
      "name": "python3",
      "display_name": "Python 3"
    },
    "language_info": {
      "name": "python"
    }
  },
  "cells": [
    {
      "cell_type": "markdown",
      "metadata": {
        "id": "view-in-github",
        "colab_type": "text"
      },
      "source": [
        "<a href=\"https://colab.research.google.com/github/sooloin/Python-Programming-Assignment/blob/main/%EC%9D%B8%EA%B3%B5%EC%A7%80%EB%8A%A5_5%EC%A3%BC%EC%B0%A8_%EC%8B%A4%EC%8A%B5.ipynb\" target=\"_parent\"><img src=\"https://colab.research.google.com/assets/colab-badge.svg\" alt=\"Open In Colab\"/></a>"
      ]
    },
    {
      "cell_type": "markdown",
      "source": [
        "#**Mission : 농구 선수의 포지션을 분류해보자!!**"
      ],
      "metadata": {
        "id": "P-CVIDcpKHND"
      }
    },
    {
      "cell_type": "markdown",
      "source": [
        "농구선수의 기록으로부터 농구선수의 포지션을 분류하자\n",
        "\n",
        "a. binary classification (센터인가 아닌가를 분류)\n",
        "\n",
        "b. multi-class classification (n개의 포지션을 분류)"
      ],
      "metadata": {
        "id": "dJfPYYFoKQz3"
      }
    },
    {
      "cell_type": "markdown",
      "source": [
        "#1. import libraries"
      ],
      "metadata": {
        "id": "p3hT7QW1I82r"
      }
    },
    {
      "cell_type": "code",
      "execution_count": 3,
      "metadata": {
        "id": "yUleiB1qIvcL"
      },
      "outputs": [],
      "source": [
        "import numpy as np\n",
        "import pandas as pd"
      ]
    },
    {
      "cell_type": "markdown",
      "source": [
        "#2. data preparation --> (1) data loading"
      ],
      "metadata": {
        "id": "V1d2Mw_DJAYD"
      }
    },
    {
      "cell_type": "code",
      "source": [
        "from google.colab import files\n",
        "files.upload()"
      ],
      "metadata": {
        "id": "5zm8JxXdJADl"
      },
      "execution_count": null,
      "outputs": []
    },
    {
      "cell_type": "code",
      "source": [
        "nbastat = pd.read_csv('nba_stats_2020_to_2023.csv')\n",
        "m = len(nbastat)\n",
        "print(m)"
      ],
      "metadata": {
        "colab": {
          "base_uri": "https://localhost:8080/",
          "height": 0
        },
        "id": "QW_xgsIIQ0kI",
        "outputId": "0e1f5494-ee48-4800-abbc-474ca06d30f3"
      },
      "execution_count": 4,
      "outputs": [
        {
          "output_type": "stream",
          "name": "stdout",
          "text": [
            "2955\n"
          ]
        }
      ]
    },
    {
      "cell_type": "markdown",
      "source": [
        "#2. data preparation --> (2) 특징 선택\n"
      ],
      "metadata": {
        "id": "cY3poYrWJCCI"
      }
    },
    {
      "cell_type": "code",
      "source": [
        "feature = ['Pos', 'FG%', '3P%', 'TRB', 'AST', 'STL', 'BLK']\n",
        "\n",
        "nbastat2 = nbastat[feature]\n",
        "\n",
        "nbastat2"
      ],
      "metadata": {
        "colab": {
          "base_uri": "https://localhost:8080/",
          "height": 423
        },
        "id": "GQTWj6IcJE0h",
        "outputId": "296c2efd-9b84-4cb6-d56a-44f6a4d05c4a"
      },
      "execution_count": 18,
      "outputs": [
        {
          "output_type": "execute_result",
          "data": {
            "text/plain": [
              "     Pos    FG%    3P%   TRB   AST  STL  BLK\n",
              "0      C  0.592  0.333   9.3   2.3  0.8  1.1\n",
              "1     PF  0.557  0.143  10.2   5.1  1.1  1.3\n",
              "2      C  0.493  0.389   7.4   2.4  0.7  1.6\n",
              "3      C  0.500    NaN   1.5   0.0  0.0  0.0\n",
              "4     SG  0.368  0.346   1.8   1.9  0.4  0.2\n",
              "...   ..    ...    ...   ...   ...  ...  ...\n",
              "2950  PF  0.545  0.176   3.1   1.4  1.0  0.1\n",
              "2951  PG  0.429  0.335   3.0  10.2  1.1  0.1\n",
              "2952   C  0.593  0.429   2.6   0.2  0.2  0.2\n",
              "2953   C  0.627  0.000   4.3   0.7  0.2  0.3\n",
              "2954   C  0.634  0.000   9.9   1.0  0.4  1.3\n",
              "\n",
              "[2955 rows x 7 columns]"
            ],
            "text/html": [
              "\n",
              "  <div id=\"df-9b9511c8-1ee6-4be3-b02a-39e108336e0b\" class=\"colab-df-container\">\n",
              "    <div>\n",
              "<style scoped>\n",
              "    .dataframe tbody tr th:only-of-type {\n",
              "        vertical-align: middle;\n",
              "    }\n",
              "\n",
              "    .dataframe tbody tr th {\n",
              "        vertical-align: top;\n",
              "    }\n",
              "\n",
              "    .dataframe thead th {\n",
              "        text-align: right;\n",
              "    }\n",
              "</style>\n",
              "<table border=\"1\" class=\"dataframe\">\n",
              "  <thead>\n",
              "    <tr style=\"text-align: right;\">\n",
              "      <th></th>\n",
              "      <th>Pos</th>\n",
              "      <th>FG%</th>\n",
              "      <th>3P%</th>\n",
              "      <th>TRB</th>\n",
              "      <th>AST</th>\n",
              "      <th>STL</th>\n",
              "      <th>BLK</th>\n",
              "    </tr>\n",
              "  </thead>\n",
              "  <tbody>\n",
              "    <tr>\n",
              "      <th>0</th>\n",
              "      <td>C</td>\n",
              "      <td>0.592</td>\n",
              "      <td>0.333</td>\n",
              "      <td>9.3</td>\n",
              "      <td>2.3</td>\n",
              "      <td>0.8</td>\n",
              "      <td>1.1</td>\n",
              "    </tr>\n",
              "    <tr>\n",
              "      <th>1</th>\n",
              "      <td>PF</td>\n",
              "      <td>0.557</td>\n",
              "      <td>0.143</td>\n",
              "      <td>10.2</td>\n",
              "      <td>5.1</td>\n",
              "      <td>1.1</td>\n",
              "      <td>1.3</td>\n",
              "    </tr>\n",
              "    <tr>\n",
              "      <th>2</th>\n",
              "      <td>C</td>\n",
              "      <td>0.493</td>\n",
              "      <td>0.389</td>\n",
              "      <td>7.4</td>\n",
              "      <td>2.4</td>\n",
              "      <td>0.7</td>\n",
              "      <td>1.6</td>\n",
              "    </tr>\n",
              "    <tr>\n",
              "      <th>3</th>\n",
              "      <td>C</td>\n",
              "      <td>0.500</td>\n",
              "      <td>NaN</td>\n",
              "      <td>1.5</td>\n",
              "      <td>0.0</td>\n",
              "      <td>0.0</td>\n",
              "      <td>0.0</td>\n",
              "    </tr>\n",
              "    <tr>\n",
              "      <th>4</th>\n",
              "      <td>SG</td>\n",
              "      <td>0.368</td>\n",
              "      <td>0.346</td>\n",
              "      <td>1.8</td>\n",
              "      <td>1.9</td>\n",
              "      <td>0.4</td>\n",
              "      <td>0.2</td>\n",
              "    </tr>\n",
              "    <tr>\n",
              "      <th>...</th>\n",
              "      <td>...</td>\n",
              "      <td>...</td>\n",
              "      <td>...</td>\n",
              "      <td>...</td>\n",
              "      <td>...</td>\n",
              "      <td>...</td>\n",
              "      <td>...</td>\n",
              "    </tr>\n",
              "    <tr>\n",
              "      <th>2950</th>\n",
              "      <td>PF</td>\n",
              "      <td>0.545</td>\n",
              "      <td>0.176</td>\n",
              "      <td>3.1</td>\n",
              "      <td>1.4</td>\n",
              "      <td>1.0</td>\n",
              "      <td>0.1</td>\n",
              "    </tr>\n",
              "    <tr>\n",
              "      <th>2951</th>\n",
              "      <td>PG</td>\n",
              "      <td>0.429</td>\n",
              "      <td>0.335</td>\n",
              "      <td>3.0</td>\n",
              "      <td>10.2</td>\n",
              "      <td>1.1</td>\n",
              "      <td>0.1</td>\n",
              "    </tr>\n",
              "    <tr>\n",
              "      <th>2952</th>\n",
              "      <td>C</td>\n",
              "      <td>0.593</td>\n",
              "      <td>0.429</td>\n",
              "      <td>2.6</td>\n",
              "      <td>0.2</td>\n",
              "      <td>0.2</td>\n",
              "      <td>0.2</td>\n",
              "    </tr>\n",
              "    <tr>\n",
              "      <th>2953</th>\n",
              "      <td>C</td>\n",
              "      <td>0.627</td>\n",
              "      <td>0.000</td>\n",
              "      <td>4.3</td>\n",
              "      <td>0.7</td>\n",
              "      <td>0.2</td>\n",
              "      <td>0.3</td>\n",
              "    </tr>\n",
              "    <tr>\n",
              "      <th>2954</th>\n",
              "      <td>C</td>\n",
              "      <td>0.634</td>\n",
              "      <td>0.000</td>\n",
              "      <td>9.9</td>\n",
              "      <td>1.0</td>\n",
              "      <td>0.4</td>\n",
              "      <td>1.3</td>\n",
              "    </tr>\n",
              "  </tbody>\n",
              "</table>\n",
              "<p>2955 rows × 7 columns</p>\n",
              "</div>\n",
              "    <div class=\"colab-df-buttons\">\n",
              "\n",
              "  <div class=\"colab-df-container\">\n",
              "    <button class=\"colab-df-convert\" onclick=\"convertToInteractive('df-9b9511c8-1ee6-4be3-b02a-39e108336e0b')\"\n",
              "            title=\"Convert this dataframe to an interactive table.\"\n",
              "            style=\"display:none;\">\n",
              "\n",
              "  <svg xmlns=\"http://www.w3.org/2000/svg\" height=\"24px\" viewBox=\"0 -960 960 960\">\n",
              "    <path d=\"M120-120v-720h720v720H120Zm60-500h600v-160H180v160Zm220 220h160v-160H400v160Zm0 220h160v-160H400v160ZM180-400h160v-160H180v160Zm440 0h160v-160H620v160ZM180-180h160v-160H180v160Zm440 0h160v-160H620v160Z\"/>\n",
              "  </svg>\n",
              "    </button>\n",
              "\n",
              "  <style>\n",
              "    .colab-df-container {\n",
              "      display:flex;\n",
              "      gap: 12px;\n",
              "    }\n",
              "\n",
              "    .colab-df-convert {\n",
              "      background-color: #E8F0FE;\n",
              "      border: none;\n",
              "      border-radius: 50%;\n",
              "      cursor: pointer;\n",
              "      display: none;\n",
              "      fill: #1967D2;\n",
              "      height: 32px;\n",
              "      padding: 0 0 0 0;\n",
              "      width: 32px;\n",
              "    }\n",
              "\n",
              "    .colab-df-convert:hover {\n",
              "      background-color: #E2EBFA;\n",
              "      box-shadow: 0px 1px 2px rgba(60, 64, 67, 0.3), 0px 1px 3px 1px rgba(60, 64, 67, 0.15);\n",
              "      fill: #174EA6;\n",
              "    }\n",
              "\n",
              "    .colab-df-buttons div {\n",
              "      margin-bottom: 4px;\n",
              "    }\n",
              "\n",
              "    [theme=dark] .colab-df-convert {\n",
              "      background-color: #3B4455;\n",
              "      fill: #D2E3FC;\n",
              "    }\n",
              "\n",
              "    [theme=dark] .colab-df-convert:hover {\n",
              "      background-color: #434B5C;\n",
              "      box-shadow: 0px 1px 3px 1px rgba(0, 0, 0, 0.15);\n",
              "      filter: drop-shadow(0px 1px 2px rgba(0, 0, 0, 0.3));\n",
              "      fill: #FFFFFF;\n",
              "    }\n",
              "  </style>\n",
              "\n",
              "    <script>\n",
              "      const buttonEl =\n",
              "        document.querySelector('#df-9b9511c8-1ee6-4be3-b02a-39e108336e0b button.colab-df-convert');\n",
              "      buttonEl.style.display =\n",
              "        google.colab.kernel.accessAllowed ? 'block' : 'none';\n",
              "\n",
              "      async function convertToInteractive(key) {\n",
              "        const element = document.querySelector('#df-9b9511c8-1ee6-4be3-b02a-39e108336e0b');\n",
              "        const dataTable =\n",
              "          await google.colab.kernel.invokeFunction('convertToInteractive',\n",
              "                                                    [key], {});\n",
              "        if (!dataTable) return;\n",
              "\n",
              "        const docLinkHtml = 'Like what you see? Visit the ' +\n",
              "          '<a target=\"_blank\" href=https://colab.research.google.com/notebooks/data_table.ipynb>data table notebook</a>'\n",
              "          + ' to learn more about interactive tables.';\n",
              "        element.innerHTML = '';\n",
              "        dataTable['output_type'] = 'display_data';\n",
              "        await google.colab.output.renderOutput(dataTable, element);\n",
              "        const docLink = document.createElement('div');\n",
              "        docLink.innerHTML = docLinkHtml;\n",
              "        element.appendChild(docLink);\n",
              "      }\n",
              "    </script>\n",
              "  </div>\n",
              "\n",
              "\n",
              "<div id=\"df-f55cb353-3c65-458c-b33d-9571c905dd75\">\n",
              "  <button class=\"colab-df-quickchart\" onclick=\"quickchart('df-f55cb353-3c65-458c-b33d-9571c905dd75')\"\n",
              "            title=\"Suggest charts\"\n",
              "            style=\"display:none;\">\n",
              "\n",
              "<svg xmlns=\"http://www.w3.org/2000/svg\" height=\"24px\"viewBox=\"0 0 24 24\"\n",
              "     width=\"24px\">\n",
              "    <g>\n",
              "        <path d=\"M19 3H5c-1.1 0-2 .9-2 2v14c0 1.1.9 2 2 2h14c1.1 0 2-.9 2-2V5c0-1.1-.9-2-2-2zM9 17H7v-7h2v7zm4 0h-2V7h2v10zm4 0h-2v-4h2v4z\"/>\n",
              "    </g>\n",
              "</svg>\n",
              "  </button>\n",
              "\n",
              "<style>\n",
              "  .colab-df-quickchart {\n",
              "      --bg-color: #E8F0FE;\n",
              "      --fill-color: #1967D2;\n",
              "      --hover-bg-color: #E2EBFA;\n",
              "      --hover-fill-color: #174EA6;\n",
              "      --disabled-fill-color: #AAA;\n",
              "      --disabled-bg-color: #DDD;\n",
              "  }\n",
              "\n",
              "  [theme=dark] .colab-df-quickchart {\n",
              "      --bg-color: #3B4455;\n",
              "      --fill-color: #D2E3FC;\n",
              "      --hover-bg-color: #434B5C;\n",
              "      --hover-fill-color: #FFFFFF;\n",
              "      --disabled-bg-color: #3B4455;\n",
              "      --disabled-fill-color: #666;\n",
              "  }\n",
              "\n",
              "  .colab-df-quickchart {\n",
              "    background-color: var(--bg-color);\n",
              "    border: none;\n",
              "    border-radius: 50%;\n",
              "    cursor: pointer;\n",
              "    display: none;\n",
              "    fill: var(--fill-color);\n",
              "    height: 32px;\n",
              "    padding: 0;\n",
              "    width: 32px;\n",
              "  }\n",
              "\n",
              "  .colab-df-quickchart:hover {\n",
              "    background-color: var(--hover-bg-color);\n",
              "    box-shadow: 0 1px 2px rgba(60, 64, 67, 0.3), 0 1px 3px 1px rgba(60, 64, 67, 0.15);\n",
              "    fill: var(--button-hover-fill-color);\n",
              "  }\n",
              "\n",
              "  .colab-df-quickchart-complete:disabled,\n",
              "  .colab-df-quickchart-complete:disabled:hover {\n",
              "    background-color: var(--disabled-bg-color);\n",
              "    fill: var(--disabled-fill-color);\n",
              "    box-shadow: none;\n",
              "  }\n",
              "\n",
              "  .colab-df-spinner {\n",
              "    border: 2px solid var(--fill-color);\n",
              "    border-color: transparent;\n",
              "    border-bottom-color: var(--fill-color);\n",
              "    animation:\n",
              "      spin 1s steps(1) infinite;\n",
              "  }\n",
              "\n",
              "  @keyframes spin {\n",
              "    0% {\n",
              "      border-color: transparent;\n",
              "      border-bottom-color: var(--fill-color);\n",
              "      border-left-color: var(--fill-color);\n",
              "    }\n",
              "    20% {\n",
              "      border-color: transparent;\n",
              "      border-left-color: var(--fill-color);\n",
              "      border-top-color: var(--fill-color);\n",
              "    }\n",
              "    30% {\n",
              "      border-color: transparent;\n",
              "      border-left-color: var(--fill-color);\n",
              "      border-top-color: var(--fill-color);\n",
              "      border-right-color: var(--fill-color);\n",
              "    }\n",
              "    40% {\n",
              "      border-color: transparent;\n",
              "      border-right-color: var(--fill-color);\n",
              "      border-top-color: var(--fill-color);\n",
              "    }\n",
              "    60% {\n",
              "      border-color: transparent;\n",
              "      border-right-color: var(--fill-color);\n",
              "    }\n",
              "    80% {\n",
              "      border-color: transparent;\n",
              "      border-right-color: var(--fill-color);\n",
              "      border-bottom-color: var(--fill-color);\n",
              "    }\n",
              "    90% {\n",
              "      border-color: transparent;\n",
              "      border-bottom-color: var(--fill-color);\n",
              "    }\n",
              "  }\n",
              "</style>\n",
              "\n",
              "  <script>\n",
              "    async function quickchart(key) {\n",
              "      const quickchartButtonEl =\n",
              "        document.querySelector('#' + key + ' button');\n",
              "      quickchartButtonEl.disabled = true;  // To prevent multiple clicks.\n",
              "      quickchartButtonEl.classList.add('colab-df-spinner');\n",
              "      try {\n",
              "        const charts = await google.colab.kernel.invokeFunction(\n",
              "            'suggestCharts', [key], {});\n",
              "      } catch (error) {\n",
              "        console.error('Error during call to suggestCharts:', error);\n",
              "      }\n",
              "      quickchartButtonEl.classList.remove('colab-df-spinner');\n",
              "      quickchartButtonEl.classList.add('colab-df-quickchart-complete');\n",
              "    }\n",
              "    (() => {\n",
              "      let quickchartButtonEl =\n",
              "        document.querySelector('#df-f55cb353-3c65-458c-b33d-9571c905dd75 button');\n",
              "      quickchartButtonEl.style.display =\n",
              "        google.colab.kernel.accessAllowed ? 'block' : 'none';\n",
              "    })();\n",
              "  </script>\n",
              "</div>\n",
              "\n",
              "  <div id=\"id_5b875d76-a41c-4385-a568-a9a6d767251f\">\n",
              "    <style>\n",
              "      .colab-df-generate {\n",
              "        background-color: #E8F0FE;\n",
              "        border: none;\n",
              "        border-radius: 50%;\n",
              "        cursor: pointer;\n",
              "        display: none;\n",
              "        fill: #1967D2;\n",
              "        height: 32px;\n",
              "        padding: 0 0 0 0;\n",
              "        width: 32px;\n",
              "      }\n",
              "\n",
              "      .colab-df-generate:hover {\n",
              "        background-color: #E2EBFA;\n",
              "        box-shadow: 0px 1px 2px rgba(60, 64, 67, 0.3), 0px 1px 3px 1px rgba(60, 64, 67, 0.15);\n",
              "        fill: #174EA6;\n",
              "      }\n",
              "\n",
              "      [theme=dark] .colab-df-generate {\n",
              "        background-color: #3B4455;\n",
              "        fill: #D2E3FC;\n",
              "      }\n",
              "\n",
              "      [theme=dark] .colab-df-generate:hover {\n",
              "        background-color: #434B5C;\n",
              "        box-shadow: 0px 1px 3px 1px rgba(0, 0, 0, 0.15);\n",
              "        filter: drop-shadow(0px 1px 2px rgba(0, 0, 0, 0.3));\n",
              "        fill: #FFFFFF;\n",
              "      }\n",
              "    </style>\n",
              "    <button class=\"colab-df-generate\" onclick=\"generateWithVariable('nbastat2')\"\n",
              "            title=\"Generate code using this dataframe.\"\n",
              "            style=\"display:none;\">\n",
              "\n",
              "  <svg xmlns=\"http://www.w3.org/2000/svg\" height=\"24px\"viewBox=\"0 0 24 24\"\n",
              "       width=\"24px\">\n",
              "    <path d=\"M7,19H8.4L18.45,9,17,7.55,7,17.6ZM5,21V16.75L18.45,3.32a2,2,0,0,1,2.83,0l1.4,1.43a1.91,1.91,0,0,1,.58,1.4,1.91,1.91,0,0,1-.58,1.4L9.25,21ZM18.45,9,17,7.55Zm-12,3A5.31,5.31,0,0,0,4.9,8.1,5.31,5.31,0,0,0,1,6.5,5.31,5.31,0,0,0,4.9,4.9,5.31,5.31,0,0,0,6.5,1,5.31,5.31,0,0,0,8.1,4.9,5.31,5.31,0,0,0,12,6.5,5.46,5.46,0,0,0,6.5,12Z\"/>\n",
              "  </svg>\n",
              "    </button>\n",
              "    <script>\n",
              "      (() => {\n",
              "      const buttonEl =\n",
              "        document.querySelector('#id_5b875d76-a41c-4385-a568-a9a6d767251f button.colab-df-generate');\n",
              "      buttonEl.style.display =\n",
              "        google.colab.kernel.accessAllowed ? 'block' : 'none';\n",
              "\n",
              "      buttonEl.onclick = () => {\n",
              "        google.colab.notebook.generateWithVariable('nbastat2');\n",
              "      }\n",
              "      })();\n",
              "    </script>\n",
              "  </div>\n",
              "\n",
              "    </div>\n",
              "  </div>\n"
            ],
            "application/vnd.google.colaboratory.intrinsic+json": {
              "type": "dataframe",
              "variable_name": "nbastat2",
              "summary": "{\n  \"name\": \"nbastat2\",\n  \"rows\": 2955,\n  \"fields\": [\n    {\n      \"column\": \"Pos\",\n      \"properties\": {\n        \"dtype\": \"category\",\n        \"num_unique_values\": 15,\n        \"samples\": [\n          \"SF-PF\",\n          \"C-PF\",\n          \"C\"\n        ],\n        \"semantic_type\": \"\",\n        \"description\": \"\"\n      }\n    },\n    {\n      \"column\": \"FG%\",\n      \"properties\": {\n        \"dtype\": \"number\",\n        \"std\": 0.12048926613511776,\n        \"min\": 0.0,\n        \"max\": 1.0,\n        \"num_unique_values\": 436,\n        \"samples\": [\n          0.671,\n          0.581,\n          0.677\n        ],\n        \"semantic_type\": \"\",\n        \"description\": \"\"\n      }\n    },\n    {\n      \"column\": \"3P%\",\n      \"properties\": {\n        \"dtype\": \"number\",\n        \"std\": 0.13258729732491656,\n        \"min\": 0.0,\n        \"max\": 1.0,\n        \"num_unique_values\": 313,\n        \"samples\": [\n          0.322,\n          0.282,\n          0.264\n        ],\n        \"semantic_type\": \"\",\n        \"description\": \"\"\n      }\n    },\n    {\n      \"column\": \"TRB\",\n      \"properties\": {\n        \"dtype\": \"number\",\n        \"std\": 2.3627328714815743,\n        \"min\": 0.0,\n        \"max\": 15.8,\n        \"num_unique_values\": 130,\n        \"samples\": [\n          0.7,\n          6.4,\n          11.5\n        ],\n        \"semantic_type\": \"\",\n        \"description\": \"\"\n      }\n    },\n    {\n      \"column\": \"AST\",\n      \"properties\": {\n        \"dtype\": \"number\",\n        \"std\": 1.8148906171435955,\n        \"min\": 0.0,\n        \"max\": 11.7,\n        \"num_unique_values\": 104,\n        \"samples\": [\n          0.9,\n          4.3,\n          5.0\n        ],\n        \"semantic_type\": \"\",\n        \"description\": \"\"\n      }\n    },\n    {\n      \"column\": \"STL\",\n      \"properties\": {\n        \"dtype\": \"number\",\n        \"std\": 0.4053885472326959,\n        \"min\": 0.0,\n        \"max\": 3.0,\n        \"num_unique_values\": 26,\n        \"samples\": [\n          1.0,\n          1.8,\n          0.8\n        ],\n        \"semantic_type\": \"\",\n        \"description\": \"\"\n      }\n    },\n    {\n      \"column\": \"BLK\",\n      \"properties\": {\n        \"dtype\": \"number\",\n        \"std\": 0.38657375585423964,\n        \"min\": 0.0,\n        \"max\": 3.4,\n        \"num_unique_values\": 31,\n        \"samples\": [\n          3.4,\n          1.8,\n          2.1\n        ],\n        \"semantic_type\": \"\",\n        \"description\": \"\"\n      }\n    }\n  ]\n}"
            }
          },
          "metadata": {},
          "execution_count": 18
        }
      ]
    },
    {
      "cell_type": "markdown",
      "source": [
        "#2. data preparation --> (3) 결측치 제거\n"
      ],
      "metadata": {
        "id": "hBffqBa4R58i"
      }
    },
    {
      "cell_type": "code",
      "source": [
        "# 값이 비어있는 항 제거\n",
        "# isna() 함수 --> 결측값을 가지고 있는가?\n",
        "rows_with_na = nbastat2[nbastat2.isna().any(axis=1)] # any -> 한개라도 있다면 불어라\n",
        "print(rows_with_na)\n",
        "# na가 있는 행들을 모두 골라냈음.\n",
        "# 그리고 이러한 na가 있는 모든 행들을 지워버릴 것임.\n",
        "\n",
        "print(len(nbastat2))"
      ],
      "metadata": {
        "colab": {
          "base_uri": "https://localhost:8080/",
          "height": 0
        },
        "id": "k5k1hI0iR-HE",
        "outputId": "eca25fe9-fa26-4435-cda0-1b1aa5868c2b"
      },
      "execution_count": 19,
      "outputs": [
        {
          "output_type": "stream",
          "name": "stdout",
          "text": [
            "      Pos    FG%  3P%  TRB  AST  STL  BLK\n",
            "3       C  0.500  NaN  1.5  0.0  0.0  0.0\n",
            "13     PF  1.000  NaN  0.6  0.4  0.0  0.0\n",
            "22    NaN    NaN  NaN  NaN  NaN  NaN  NaN\n",
            "53    NaN    NaN  NaN  NaN  NaN  NaN  NaN\n",
            "58      C  0.543  NaN  5.8  0.9  0.2  0.9\n",
            "...   ...    ...  ...  ...  ...  ...  ...\n",
            "2885  NaN    NaN  NaN  NaN  NaN  NaN  NaN\n",
            "2910  NaN    NaN  NaN  NaN  NaN  NaN  NaN\n",
            "2927   SG    NaN  NaN  1.0  0.0  0.0  0.0\n",
            "2933  NaN    NaN  NaN  NaN  NaN  NaN  NaN\n",
            "2935    C  0.637  NaN  7.1  0.4  0.7  1.0\n",
            "\n",
            "[274 rows x 7 columns]\n",
            "2955\n"
          ]
        }
      ]
    },
    {
      "cell_type": "markdown",
      "source": [
        "-> 결측치가 있는 행이 274\n",
        "\n",
        "=> 결측치가 없는 행이 2681행"
      ],
      "metadata": {
        "id": "tkzKWaJVVimN"
      }
    },
    {
      "cell_type": "code",
      "source": [
        "# dropna(axis = 0 or 1) 함수 -> 결측값이 있는 (비어있는) 행 또는 열을 아예 삭제해주세요\n",
        "# fillna()는 결측값이 있는 곳을 0으로 채워주세요.\n",
        "nbastat2 = nbastat2.dropna(axis=0)\n",
        "print(len(nbastat2))"
      ],
      "metadata": {
        "colab": {
          "base_uri": "https://localhost:8080/",
          "height": 0
        },
        "id": "halpN6CtSxB_",
        "outputId": "4f0d6aaa-faa4-43f3-e4e8-7762b2e2a814"
      },
      "execution_count": 20,
      "outputs": [
        {
          "output_type": "stream",
          "name": "stdout",
          "text": [
            "2681\n"
          ]
        }
      ]
    },
    {
      "cell_type": "markdown",
      "source": [
        "#2. data preparation --> (4) 이상치 제거\n",
        "\n",
        "Position이 C, PG, SG, SF, PF 아닌 행들을 이상치라고 한다."
      ],
      "metadata": {
        "id": "Wyr5xc4LVuMh"
      }
    },
    {
      "cell_type": "code",
      "source": [
        "# 즉, 포지션이 C, PG, SG, SF, PF가 아닌 행을 제거\n",
        "# Pos가 C, PG, SG, SF, PF인 행만 선택\n",
        "\n",
        "print(len(nbastat2))\n",
        "\n",
        "nbastat3 = nbastat2[(nbastat2['Pos']=='C') | (nbastat2['Pos']=='PG') |\n",
        "                    (nbastat2['Pos']=='SG') | (nbastat2['Pos']=='SF') | (nbastat2['Pos']=='PF')]\n",
        "\n",
        "print(nbastat3)"
      ],
      "metadata": {
        "colab": {
          "base_uri": "https://localhost:8080/",
          "height": 0
        },
        "id": "xFR3cWx0Vm3U",
        "outputId": "9986fa45-1f81-4e89-ee23-72024e5ea15d"
      },
      "execution_count": 22,
      "outputs": [
        {
          "output_type": "stream",
          "name": "stdout",
          "text": [
            "2681\n",
            "     Pos    FG%    3P%   TRB   AST  STL  BLK\n",
            "0      C  0.592  0.333   9.3   2.3  0.8  1.1\n",
            "1     PF  0.557  0.143  10.2   5.1  1.1  1.3\n",
            "2      C  0.493  0.389   7.4   2.4  0.7  1.6\n",
            "4     SG  0.368  0.346   1.8   1.9  0.4  0.2\n",
            "5     SG  0.466  0.404   2.2   1.4  0.3  0.1\n",
            "...   ..    ...    ...   ...   ...  ...  ...\n",
            "2950  PF  0.545  0.176   3.1   1.4  1.0  0.1\n",
            "2951  PG  0.429  0.335   3.0  10.2  1.1  0.1\n",
            "2952   C  0.593  0.429   2.6   0.2  0.2  0.2\n",
            "2953   C  0.627  0.000   4.3   0.7  0.2  0.3\n",
            "2954   C  0.634  0.000   9.9   1.0  0.4  1.3\n",
            "\n",
            "[2632 rows x 7 columns]\n"
          ]
        }
      ]
    },
    {
      "cell_type": "markdown",
      "source": [
        "2681 row -> 2632 row로 변한 것을 알 수 있음.\n",
        "\n",
        "즉, 2632개의 데이터가 결측치, 이상치가 없는 데이터임을 알 수 있음."
      ],
      "metadata": {
        "id": "-cL1NdchWjJJ"
      }
    },
    {
      "cell_type": "markdown",
      "source": [
        "#2. data preparation --> (5) 변수 설정\n"
      ],
      "metadata": {
        "id": "hIIzzvwVWtbq"
      }
    },
    {
      "cell_type": "code",
      "source": [
        "# feature = ['Pos', 'FG%', '3P%', 'TRB', 'AST', 'STL', 'BLK']\n",
        "\n",
        "x1 = nbastat3[['FG%']]\n",
        "x2 = nbastat3[['3P%']]\n",
        "x3 = nbastat3[['TRB']]\n",
        "x4 = nbastat3[['AST']]\n",
        "x5 = nbastat3[['STL']]\n",
        "x6 = nbastat3[['BLK']]\n",
        "y = nbastat3[['Pos']]\n",
        "\n",
        "m = len(y) # data 개수 => m\n",
        "print(m) # m의 데이터 개수가 2632개여야 하는데 잘 들어갔는지 확인"
      ],
      "metadata": {
        "colab": {
          "base_uri": "https://localhost:8080/",
          "height": 0
        },
        "id": "abo5g5yhW0ax",
        "outputId": "830b4fcd-1b95-48f4-bbc7-62ceaf1ec6a8"
      },
      "execution_count": 24,
      "outputs": [
        {
          "output_type": "stream",
          "name": "stdout",
          "text": [
            "2632\n"
          ]
        }
      ]
    },
    {
      "cell_type": "markdown",
      "source": [
        "## ! 이상치 제거 확인 !\n",
        "\n"
      ],
      "metadata": {
        "id": "c3OMiZKKXZbz"
      }
    },
    {
      "cell_type": "code",
      "source": [
        "# y의 값이 C, PG, SG, SF, PF만 있는지 확인\n",
        "# 우리가 정하지 않은 다른 data가 있으면 곤란하기 때문이다.\n",
        "unique = y.drop_duplicates()\n",
        "print(unique)\n",
        "\n",
        "# 각 C, PG, SG, SF, PF가 먼저 나온 행 보여줌"
      ],
      "metadata": {
        "colab": {
          "base_uri": "https://localhost:8080/",
          "height": 0
        },
        "id": "Es5VYkCbXeMu",
        "outputId": "5c81a000-c673-4a8e-d86d-265cbccb858c"
      },
      "execution_count": 25,
      "outputs": [
        {
          "output_type": "stream",
          "name": "stdout",
          "text": [
            "   Pos\n",
            "0    C\n",
            "1   PF\n",
            "4   SG\n",
            "7   PG\n",
            "10  SF\n"
          ]
        }
      ]
    },
    {
      "cell_type": "markdown",
      "source": [
        "## binary classification : C를 class 1, 그 이외의 값을 class 0으로 labeling\n",
        "\n",
        "## multi-class classification : C는 2, PF나 SF는 1, PG나 SG는 0으로 labeling"
      ],
      "metadata": {
        "id": "tErY7cCkeePF"
      }
    },
    {
      "cell_type": "code",
      "source": [
        "# yb : binary classification용 변수 : C는 1, 그 외는 0\n",
        "# yt : muticalss classification\n",
        "\n",
        "yb = nbastat3['Pos'].apply(lambda x: 1 if x == 'C' else 0)\n",
        "\n",
        "yt = nbastat3['Pos'].map({'C':2, 'PF':1, 'SF':1, 'PG':0, 'SF':0})"
      ],
      "metadata": {
        "id": "NoKHN_WJeluQ"
      },
      "execution_count": 27,
      "outputs": []
    },
    {
      "cell_type": "markdown",
      "source": [
        "# 2. data preparation --> (6) 변수 벡터 설정\n"
      ],
      "metadata": {
        "id": "8mjfpPKgfw9P"
      }
    },
    {
      "cell_type": "code",
      "source": [
        "# Xb = [1, x1, ..., x6]\n",
        "# yb = numpy의 array로 변환\n",
        "\n",
        "x0 = np.ones((m,1))\n",
        "Xb = np.c_[x0, x1, x2, x3, x4, x5, x6]\n",
        "\n",
        "yb = (np.array(yb)).reshape(m,1)\n",
        "\n",
        "print(Xb.shape)\n",
        "print(yb.shape)\n",
        "print(type(Xb), type(yb))"
      ],
      "metadata": {
        "colab": {
          "base_uri": "https://localhost:8080/",
          "height": 0
        },
        "id": "YeembZfQfotR",
        "outputId": "2ae68c2b-fb43-4f69-9660-31283d29c8fc"
      },
      "execution_count": 55,
      "outputs": [
        {
          "output_type": "stream",
          "name": "stdout",
          "text": [
            "(2632, 7)\n",
            "(2632, 1)\n",
            "<class 'numpy.ndarray'> <class 'numpy.ndarray'>\n"
          ]
        }
      ]
    },
    {
      "cell_type": "markdown",
      "source": [
        "# 2. data preparation --> (7) train-test set 분할\n"
      ],
      "metadata": {
        "id": "AtbW40QZghqw"
      }
    },
    {
      "cell_type": "code",
      "source": [
        "# np의 random permutation을 사용\n",
        "def permutation_split(X, Y, ratio = 0.7, random_state = 1004):\n",
        "  # train set의 크기 : num_a, test_set의 크기 : num_b\n",
        "  num_a = int(X.shape[0]*ratio)\n",
        "  num_b = X.shape[0]-num_a\n",
        "\n",
        "  np.random.seed(random_state)\n",
        "  shuffle = np.random.permutation(X.shape[0])\n",
        "\n",
        "  X = X[shuffle, :]\n",
        "  Y = Y[shuffle, :]\n",
        "\n",
        "  Xa = X[:num_a]\n",
        "  Ya = Y[:num_a]\n",
        "  Xb = X[num_a:]\n",
        "  Yb = Y[num_a:]\n",
        "\n",
        "  return Xa, Xb, Ya, Yb"
      ],
      "metadata": {
        "id": "KVFT34ELgfGH"
      },
      "execution_count": 63,
      "outputs": []
    },
    {
      "cell_type": "code",
      "source": [
        "Xb_train, Xb_test, Y_train, Y_test = permutation_split(Xb, yb, 0.6)\n",
        "\n",
        "print(len(Xb_train))\n",
        "print(len(Xb_test))\n",
        "print(len(Y_train))\n",
        "print(len(Y_test))\n",
        "\n",
        "# data가 2636개였는데 1579개의 data가 train data에 들어갔고\n",
        "# 1053개의 data가 test data에 들어감.\n",
        "\n",
        "# 따라서 우리는 train data로 모델을 돌려보고, test data를 돌려서 결과 확인 가능"
      ],
      "metadata": {
        "colab": {
          "base_uri": "https://localhost:8080/",
          "height": 0
        },
        "id": "q4Z2KtlAiVzM",
        "outputId": "63a9e3b6-5fd5-4318-aca0-7bd1c86ad348"
      },
      "execution_count": 70,
      "outputs": [
        {
          "output_type": "stream",
          "name": "stdout",
          "text": [
            "1579\n",
            "1053\n",
            "1579\n",
            "1053\n"
          ]
        }
      ]
    },
    {
      "cell_type": "markdown",
      "source": [
        "여기까지가... data 준비 과정\n",
        "\n",
        "이제 numpy를 이용한 AI의 모델을 구현할 것임.\n"
      ],
      "metadata": {
        "id": "njz607NDjexJ"
      }
    },
    {
      "cell_type": "markdown",
      "source": [
        "#3. Numpy를 이용한 구현"
      ],
      "metadata": {
        "id": "P1EYYu15kH8h"
      }
    },
    {
      "cell_type": "markdown",
      "source": [
        "#3.1 loss 함수 정의"
      ],
      "metadata": {
        "id": "lOjNdfp9kKZQ"
      }
    },
    {
      "cell_type": "code",
      "source": [
        "# cross entropy 함수 : -mean(y * log(y_hat) + (1-y)*log(1 - y_hat))\n",
        "# 조심 또 조심 :NaN --> divide-by-zero, -inf, +inf 시에 나타남.\n",
        "# log(0) => -inf --> 피해야 함\n",
        "# y_hat의 값이 0이면 log(y_hat) => -inf\n",
        "# y_hat의 값을 (0 ~ 1) => (e ~ 1 - e)\n",
        "# 1/n => 1/(n + 0.00001)와 비슷\n",
        "\n",
        "def loss_CE(y_hat, y) :\n",
        "  epsilon = 1e-15\n",
        "  y_hat = np.clip(y_hat, epsilon, 1 - epsilon)\n",
        "  # clip() : y_hat의 값을 epsilon ~ (1-epsilon)의 값으로 mapping 해주세요\n",
        "  return -np.mean(y * np.log(y_hat) + (1-y) * np.log(1-y_hat))"
      ],
      "metadata": {
        "id": "buO3BkEgjhUN"
      },
      "execution_count": 65,
      "outputs": []
    },
    {
      "cell_type": "markdown",
      "source": [
        "#3.2 model 정의\n"
      ],
      "metadata": {
        "id": "Nb0vlkjhl7Vc"
      }
    },
    {
      "cell_type": "code",
      "source": [
        "class LogisticRegressionNumpy: # 와 뭔 소린지 아예모르겠음 감도 안잡힘\n",
        "  def __init__(self, learning_rate = 0.0001, n_iter = 1000): #hyperparameter를 입력\n",
        "    self.learning_rate = learning_rate\n",
        "    self.n_iter = n_iter\n",
        "    self.theta = None # model의 parameter\n",
        "\n",
        "  def sigmoid(self, z):\n",
        "    return 1/(1+np.exp(-z))\n",
        "\n",
        "  def train(self, X, y):\n",
        "    # data의 수(m)와 속성의 수(n)를 결정\n",
        "    m, n = X.shape\n",
        "    self.theta = np.zeros((n, 1))\n",
        "\n",
        "    loss_arr=[]\n",
        "\n",
        "    #gradients descent method\n",
        "    for _ in range(self.n_iter):\n",
        "      # y_hat을 계산\n",
        "      z = X.dot(self.theta)\n",
        "      y_hat = self.sigmoid(z)\n",
        "\n",
        "      # loss 계산\n",
        "      loss = loss_CE(y_hat, y)\n",
        "      loss_arr.append(loss)\n",
        "\n",
        "      # gradients 계산\n",
        "      gradient = (1/m) * X.T.dot(y_hat - y)\n",
        "\n",
        "      # gradients descent\n",
        "      self.theta = self.theta - self.learning_rate * gradient\n",
        "\n",
        "    return loss_arr\n",
        "\n",
        "  def predict(self, X, y):\n",
        "    # y_hat을 계산\n",
        "    z = X.dot(self.theta)\n",
        "    y_hat = self.sigmoid(z)\n",
        "\n",
        "    # logistic regression : y_hat의 값이 0.5보다 적으면 0, 크면 1을 return\n",
        "    y_hat_clas = [1 if i>0.5 else 0 for i in y_hat]\n",
        "    return y_hat_clas"
      ],
      "metadata": {
        "id": "QFjGa8rpl64A"
      },
      "execution_count": 82,
      "outputs": []
    },
    {
      "cell_type": "markdown",
      "source": [
        "#3.3 훈련"
      ],
      "metadata": {
        "id": "voTdKW4Op18E"
      }
    },
    {
      "cell_type": "code",
      "source": [
        "# model 선언\n",
        "model = LogisticRegressionNumpy(learning_rate= 0.1, n_iter = 1000)\n",
        "loss_arr = model.train(Xb_train, Y_train) # training data로 훈련시키는 것임.."
      ],
      "metadata": {
        "id": "x7RWv76GnG8T"
      },
      "execution_count": 118,
      "outputs": []
    },
    {
      "cell_type": "code",
      "source": [
        "import matplotlib.pyplot as plt # 얘는 numpy 기반 그건가봐\n",
        "\n",
        "plt.plot(loss_arr, '.b')\n",
        "plt.ylabel('loss')"
      ],
      "metadata": {
        "colab": {
          "base_uri": "https://localhost:8080/",
          "height": 448
        },
        "id": "rCsOXmDHx02D",
        "outputId": "96bb2d55-ed93-4e02-df9f-edb016193426"
      },
      "execution_count": 119,
      "outputs": [
        {
          "output_type": "execute_result",
          "data": {
            "text/plain": [
              "Text(0, 0.5, 'loss')"
            ]
          },
          "metadata": {},
          "execution_count": 119
        },
        {
          "output_type": "display_data",
          "data": {
            "text/plain": [
              "<Figure size 640x480 with 1 Axes>"
            ],
            "image/png": "[encoded data removed]"
          },
          "metadata": {}
        }
      ]
    },
    {
      "cell_type": "markdown",
      "source": [],
      "metadata": {
        "id": "xxvo58_Z0Q7f"
      }
    },
    {
      "cell_type": "markdown",
      "source": [
        "#3.4 결과 검증\n"
      ],
      "metadata": {
        "id": "47oooP4MyY7r"
      }
    },
    {
      "cell_type": "code",
      "source": [
        "# prediction(정확도) = 정답 / 전체 데이터의 수\n",
        "\n",
        "# train data에 대한 결과\n",
        "prediction = model.predict(Xb_train, Y_train)\n",
        "# 왜 교수님은 하나만 넣었는데도 잘 되는거지..? 심지어 0 넣어도 결과가 똑같은데 ..\n",
        "cnt = 0\n",
        "for i in range(len(prediction)):\n",
        "  cnt += (prediction[i] == Y_train[i])\n",
        "\n",
        "print(100*(cnt/len(prediction)))\n",
        "\n",
        "# test data에 대한 결과\n",
        "prediction = model.predict(Xb_test, Y_test)\n",
        "cnt = 0\n",
        "for i in range(len(prediction)):\n",
        "  cnt += (prediction[i] == Y_test[i])\n",
        "\n",
        "print(100*(cnt/len(prediction)))\n",
        ""
      ],
      "metadata": {
        "colab": {
          "base_uri": "https://localhost:8080/",
          "height": 0
        },
        "id": "bU2mHdtoyaU_",
        "outputId": "986859d3-a9de-4c21-e098-7ae281b04553"
      },
      "execution_count": 120,
      "outputs": [
        {
          "output_type": "stream",
          "name": "stdout",
          "text": [
            "[88.66371121]\n",
            "[87.93922127]\n"
          ]
        }
      ]
    },
    {
      "cell_type": "markdown",
      "source": [
        "#4. Pytorch를 이용한 구현\n",
        "그냥 이런게 있다~ 하고 넘어가기"
      ],
      "metadata": {
        "id": "iCz-e12y60HV"
      }
    },
    {
      "cell_type": "markdown",
      "source": [
        "#4.1 import libarary"
      ],
      "metadata": {
        "id": "1KfU2oln7nvD"
      }
    },
    {
      "cell_type": "code",
      "source": [
        "import torch\n",
        "import torch.nn as nn\n",
        "import torch.optim as optim"
      ],
      "metadata": {
        "id": "OewhqeJm7qaH"
      },
      "execution_count": 121,
      "outputs": []
    },
    {
      "cell_type": "code",
      "source": [
        "class LogisticRegressionPytorch(nn.Module): # nn.Module을 상속받겠다.\n",
        "  def __init__ (self, input_size): # 속성의 개수 : n => 7\n",
        "    super(LogisticRegressionPytorch, self).__init__()\n",
        "    self.linear = nn.Linear(input_size, 1)\n",
        "    # 7개의 입력(Xb : 1, ..., x6)을 1개의 출력(z)으로 대응하는 선형 함수 : z = theta * Xb\n",
        "    self.sigmoid = nn.Sigmoid()\n",
        "\n",
        "  def forward(self, x): # 결과를 출력하는 함수 : y_hat = sigmoid(-theta * Xb) --> sigmoid(forward(x))\n",
        "    y_hat = self.sigmoid(self.linear(x))\n",
        "    return y_hat\n",
        "\n",
        "  def predict(self, x): # y_hat --> y_hat의 값이 0.5보다 작으면 0, 크면 1을 반환\n",
        "    y_hat = self.forward(x)\n",
        "    return [1 if p>0.5 else 0 for p in y_hat]"
      ],
      "metadata": {
        "id": "FARFMjNH6Was"
      },
      "execution_count": 122,
      "outputs": []
    },
    {
      "cell_type": "markdown",
      "source": [
        "#4.3 train 함수 정의"
      ],
      "metadata": {
        "id": "PnDBtsMN9BzN"
      }
    },
    {
      "cell_type": "code",
      "source": [
        "def train(model, X, y, learning_rate = 0.0001, n_iter = 10000):\n",
        "  # loss함수와 gradient method를 선언\n",
        "  criterion = nn.BCELoss()\n",
        "  optimizer = optim.SGD(model.parameters(), lr=learning_rate)\n",
        "\n",
        "  # x와 y의 type을 변경 : X, Y는 numpy의 ndarray --> pytorch의 tensor type\n",
        "  X = torch.tensor(X, dtype = torch.float32)\n",
        "  y = torch.tensor(y, dtype = torch.float32).view(-1,1)\n",
        "  # view(-1,1) : 그리고 그 때의 차원을 nx1차원에서 1차원으로 바꿔주세요\n",
        "\n",
        "  loss_arr=[]\n",
        "  for _ in range(n_iter):\n",
        "    optimizer.zero_grad()\n",
        "    output = model(X)\n",
        "    loss = criterion(output, y)\n",
        "    loss_arr.append(loss) # loss는 pytorch의 data type임\n",
        "\n",
        "    # gradient 구하기\n",
        "    loss.backward()\n",
        "\n",
        "    # gradient descent 구하기\n",
        "    optimizer.step()\n",
        "\n",
        "  return loss_arr"
      ],
      "metadata": {
        "id": "WMClakrd9EMM"
      },
      "execution_count": 123,
      "outputs": []
    },
    {
      "cell_type": "markdown",
      "source": [
        "#4.4 training"
      ],
      "metadata": {
        "id": "HDnqvlJx_dS-"
      }
    },
    {
      "cell_type": "code",
      "source": [
        "model = LogisticRegressionPytorch(input_size = 7)\n",
        "loss_arr = train(model, Xb_train, Y_train, learning_rate = 0.01, n_iter = 100000)"
      ],
      "metadata": {
        "id": "Nxc9nXaw_e0r"
      },
      "execution_count": 132,
      "outputs": []
    },
    {
      "cell_type": "code",
      "source": [
        "# # import matplotlib.pyplot as plt\n",
        "# plt.plot(loss_arr, '.g')\n",
        "# plt.ylabel('loss')\n",
        "# loss가 현재 pytorch의 데이터 타입이라서 plt로 표현 xx\n",
        "# 데이터 타입을 바꿔주면 표현 가능해용"
      ],
      "metadata": {
        "id": "LLTbbmpN_2O3"
      },
      "execution_count": 134,
      "outputs": []
    },
    {
      "cell_type": "markdown",
      "source": [
        "#4.5 결과 측정"
      ],
      "metadata": {
        "id": "KBETzKPiA--A"
      }
    },
    {
      "cell_type": "code",
      "source": [
        "# prediction(정확도) = 정답 / 전체 데이터의 수\n",
        "\n",
        "# train data에 대한 결과\n",
        "X = torch.tensor(Xb_train, dtype=torch.float32) # 텐서로 바꾸기\n",
        "prediction = model.predict(X)\n",
        "cnt = 0\n",
        "for i in range(len(prediction)):\n",
        "  cnt += (prediction[i] == Y_train[i])\n",
        "\n",
        "print(100*(cnt/len(prediction)))\n",
        "\n",
        "# test data에 대한 결과\n",
        "X = torch.tensor(Xb_test, dtype=torch.float32)\n",
        "prediction = model.predict(X)\n",
        "cnt = 0\n",
        "for i in range(len(prediction)):\n",
        "  cnt += (prediction[i] == Y_test[i])\n",
        "\n",
        "print(100*(cnt/len(prediction)))"
      ],
      "metadata": {
        "colab": {
          "base_uri": "https://localhost:8080/",
          "height": 0
        },
        "id": "g8eAK0NzA8Dr",
        "outputId": "e4bc3c78-322b-4acd-eea1-2bb7cb36d3f1"
      },
      "execution_count": 135,
      "outputs": [
        {
          "output_type": "stream",
          "name": "stdout",
          "text": [
            "[90.56364788]\n",
            "[89.64862298]\n"
          ]
        }
      ]
    },
    {
      "cell_type": "markdown",
      "source": [
        "#5. scikit-learn을 이용한 구현"
      ],
      "metadata": {
        "id": "VdhmCkvuD-Lp"
      }
    },
    {
      "cell_type": "markdown",
      "source": [
        "#5.1 import library"
      ],
      "metadata": {
        "id": "-t8DdBJ_EDcZ"
      }
    },
    {
      "cell_type": "code",
      "source": [
        "from sklearn.linear_model import LogisticRegression"
      ],
      "metadata": {
        "id": "ZG7W_6u1EGpW"
      },
      "execution_count": 138,
      "outputs": []
    },
    {
      "cell_type": "markdown",
      "source": [
        "#5.2 model 정의 및 훈련"
      ],
      "metadata": {
        "id": "NeYx0ZZEELLD"
      }
    },
    {
      "cell_type": "code",
      "source": [
        "model = LogisticRegression(max_iter = 1000)\n",
        "\n",
        "model.fit(Xb_train, Y_train.ravel())"
      ],
      "metadata": {
        "colab": {
          "base_uri": "https://localhost:8080/",
          "height": 74
        },
        "id": "3gcwfJDqENIE",
        "outputId": "c8456c9f-1cbf-4e76-b865-5fae7332edda"
      },
      "execution_count": 139,
      "outputs": [
        {
          "output_type": "execute_result",
          "data": {
            "text/plain": [
              "LogisticRegression(max_iter=1000)"
            ],
            "text/html": [
              "<style>#sk-container-id-1 {color: black;background-color: white;}#sk-container-id-1 pre{padding: 0;}#sk-container-id-1 div.sk-toggleable {background-color: white;}#sk-container-id-1 label.sk-toggleable__label {cursor: pointer;display: block;width: 100%;margin-bottom: 0;padding: 0.3em;box-sizing: border-box;text-align: center;}#sk-container-id-1 label.sk-toggleable__label-arrow:before {content: \"▸\";float: left;margin-right: 0.25em;color: #696969;}#sk-container-id-1 label.sk-toggleable__label-arrow:hover:before {color: black;}#sk-container-id-1 div.sk-estimator:hover label.sk-toggleable__label-arrow:before {color: black;}#sk-container-id-1 div.sk-toggleable__content {max-height: 0;max-width: 0;overflow: hidden;text-align: left;background-color: #f0f8ff;}#sk-container-id-1 div.sk-toggleable__content pre {margin: 0.2em;color: black;border-radius: 0.25em;background-color: #f0f8ff;}#sk-container-id-1 input.sk-toggleable__control:checked~div.sk-toggleable__content {max-height: 200px;max-width: 100%;overflow: auto;}#sk-container-id-1 input.sk-toggleable__control:checked~label.sk-toggleable__label-arrow:before {content: \"▾\";}#sk-container-id-1 div.sk-estimator input.sk-toggleable__control:checked~label.sk-toggleable__label {background-color: #d4ebff;}#sk-container-id-1 div.sk-label input.sk-toggleable__control:checked~label.sk-toggleable__label {background-color: #d4ebff;}#sk-container-id-1 input.sk-hidden--visually {border: 0;clip: rect(1px 1px 1px 1px);clip: rect(1px, 1px, 1px, 1px);height: 1px;margin: -1px;overflow: hidden;padding: 0;position: absolute;width: 1px;}#sk-container-id-1 div.sk-estimator {font-family: monospace;background-color: #f0f8ff;border: 1px dotted black;border-radius: 0.25em;box-sizing: border-box;margin-bottom: 0.5em;}#sk-container-id-1 div.sk-estimator:hover {background-color: #d4ebff;}#sk-container-id-1 div.sk-parallel-item::after {content: \"\";width: 100%;border-bottom: 1px solid gray;flex-grow: 1;}#sk-container-id-1 div.sk-label:hover label.sk-toggleable__label {background-color: #d4ebff;}#sk-container-id-1 div.sk-serial::before {content: \"\";position: absolute;border-left: 1px solid gray;box-sizing: border-box;top: 0;bottom: 0;left: 50%;z-index: 0;}#sk-container-id-1 div.sk-serial {display: flex;flex-direction: column;align-items: center;background-color: white;padding-right: 0.2em;padding-left: 0.2em;position: relative;}#sk-container-id-1 div.sk-item {position: relative;z-index: 1;}#sk-container-id-1 div.sk-parallel {display: flex;align-items: stretch;justify-content: center;background-color: white;position: relative;}#sk-container-id-1 div.sk-item::before, #sk-container-id-1 div.sk-parallel-item::before {content: \"\";position: absolute;border-left: 1px solid gray;box-sizing: border-box;top: 0;bottom: 0;left: 50%;z-index: -1;}#sk-container-id-1 div.sk-parallel-item {display: flex;flex-direction: column;z-index: 1;position: relative;background-color: white;}#sk-container-id-1 div.sk-parallel-item:first-child::after {align-self: flex-end;width: 50%;}#sk-container-id-1 div.sk-parallel-item:last-child::after {align-self: flex-start;width: 50%;}#sk-container-id-1 div.sk-parallel-item:only-child::after {width: 0;}#sk-container-id-1 div.sk-dashed-wrapped {border: 1px dashed gray;margin: 0 0.4em 0.5em 0.4em;box-sizing: border-box;padding-bottom: 0.4em;background-color: white;}#sk-container-id-1 div.sk-label label {font-family: monospace;font-weight: bold;display: inline-block;line-height: 1.2em;}#sk-container-id-1 div.sk-label-container {text-align: center;}#sk-container-id-1 div.sk-container {/* jupyter's `normalize.less` sets `[hidden] { display: none; }` but bootstrap.min.css set `[hidden] { display: none !important; }` so we also need the `!important` here to be able to override the default hidden behavior on the sphinx rendered scikit-learn.org. See: https://github.com/scikit-learn/scikit-learn/issues/21755 */display: inline-block !important;position: relative;}#sk-container-id-1 div.sk-text-repr-fallback {display: none;}</style><div id=\"sk-container-id-1\" class=\"sk-top-container\"><div class=\"sk-text-repr-fallback\"><pre>LogisticRegression(max_iter=1000)</pre><b>In a Jupyter environment, please rerun this cell to show the HTML representation or trust the notebook. <br />On GitHub, the HTML representation is unable to render, please try loading this page with nbviewer.org.</b></div><div class=\"sk-container\" hidden><div class=\"sk-item\"><div class=\"sk-estimator sk-toggleable\"><input class=\"sk-toggleable__control sk-hidden--visually\" id=\"sk-estimator-id-1\" type=\"checkbox\" checked><label for=\"sk-estimator-id-1\" class=\"sk-toggleable__label sk-toggleable__label-arrow\">LogisticRegression</label><div class=\"sk-toggleable__content\"><pre>LogisticRegression(max_iter=1000)</pre></div></div></div></div></div>"
            ]
          },
          "metadata": {},
          "execution_count": 139
        }
      ]
    },
    {
      "cell_type": "markdown",
      "source": [
        "#5.3 결과 검증"
      ],
      "metadata": {
        "id": "T7lIhcTZEYgf"
      }
    },
    {
      "cell_type": "code",
      "source": [
        "# prediction(정확도) = 정답 / 전체 데이터의 수\n",
        "\n",
        "# train data에 대한 결과\n",
        "prediction = model.predict(Xb_train)\n",
        "cnt = 0\n",
        "for i in range(len(prediction)):\n",
        "  cnt += (prediction[i] == Y_train[i])\n",
        "\n",
        "print(100*(cnt/len(prediction)))\n",
        "\n",
        "# test data에 대한 결과\n",
        "prediction = model.predict(Xb_test)\n",
        "cnt = 0\n",
        "for i in range(len(prediction)):\n",
        "  cnt += (prediction[i] == Y_test[i])\n",
        "\n",
        "print(100*(cnt/len(prediction)))"
      ],
      "metadata": {
        "colab": {
          "base_uri": "https://localhost:8080/",
          "height": 0
        },
        "id": "59Bt_SXgEaRh",
        "outputId": "0618bee7-0b53-455d-8bc6-ddb2496db954"
      },
      "execution_count": 140,
      "outputs": [
        {
          "output_type": "stream",
          "name": "stdout",
          "text": [
            "[90.43698543]\n",
            "[89.3637227]\n"
          ]
        }
      ]
    },
    {
      "cell_type": "markdown",
      "source": [
        "5번을 보면 알 수 있듯이 거의 대부분의 모델을 호출해서 사용할 수 있음.\n",
        "\n",
        "4줄로 대부분의 AI model을 구현할 수 있는 것임..\n",
        "\n",
        "그니까 앞으로 내가 모델 구현했을 때, 맞는지 확인하고 싶으면 Scikit-learn 라이브러리 사용해서 확인하는 것도 좋은 방법!"
      ],
      "metadata": {
        "id": "AJ26LvUOE7Wl"
      }
    }
  ]
}